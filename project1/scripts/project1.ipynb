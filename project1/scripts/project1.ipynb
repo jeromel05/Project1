{
 "cells": [
  {
   "cell_type": "code",
   "execution_count": 19,
   "metadata": {},
   "outputs": [
    {
     "name": "stdout",
     "output_type": "stream",
     "text": [
      "The autoreload extension is already loaded. To reload it, use:\n",
      "  %reload_ext autoreload\n"
     ]
    }
   ],
   "source": [
    "# Useful starting lines\n",
    "%matplotlib inline\n",
    "import numpy as np\n",
    "import matplotlib.pyplot as plt\n",
    "%load_ext autoreload\n",
    "%autoreload 2"
   ]
  },
  {
   "cell_type": "markdown",
   "metadata": {},
   "source": [
    "## Load the training data into feature matrix, class labels, and event ids:"
   ]
  },
  {
   "cell_type": "code",
   "execution_count": 8,
   "metadata": {},
   "outputs": [],
   "source": [
    "from proj1_helpers import *\n",
    "from UtilityFunctions import *\n",
    "from datapreprocessing import *\n",
    "from implementations import *\n",
    "from patternsmissingvalues import *"
   ]
  },
  {
   "cell_type": "code",
   "execution_count": 9,
   "metadata": {},
   "outputs": [],
   "source": [
    "DATA_TRAIN_PATH = '../data/train.csv' # TODO: download train data and supply path here \n",
    "y, tX, ids = load_csv_data(DATA_TRAIN_PATH)"
   ]
  },
  {
   "cell_type": "markdown",
   "metadata": {},
   "source": [
    "## Exploring the data"
   ]
  },
  {
   "cell_type": "code",
   "execution_count": 10,
   "metadata": {},
   "outputs": [
    {
     "data": {
      "text/plain": [
       "((250000,), (250000, 30), (250000,))"
      ]
     },
     "execution_count": 10,
     "metadata": {},
     "output_type": "execute_result"
    }
   ],
   "source": [
    "y.shape,tX.shape,ids.shape\n"
   ]
  },
  {
   "cell_type": "code",
   "execution_count": 11,
   "metadata": {},
   "outputs": [
    {
     "data": {
      "text/plain": [
       "array([ 1.38470e+02,  5.16550e+01,  9.78270e+01,  2.79800e+01,\n",
       "        9.10000e-01,  1.24711e+02,  2.66600e+00,  3.06400e+00,\n",
       "        4.19280e+01,  1.97760e+02,  1.58200e+00,  1.39600e+00,\n",
       "        2.00000e-01,  3.26380e+01,  1.01700e+00,  3.81000e-01,\n",
       "        5.16260e+01,  2.27300e+00, -2.41400e+00,  1.68240e+01,\n",
       "       -2.77000e-01,  2.58733e+02,  2.00000e+00,  6.74350e+01,\n",
       "        2.15000e+00,  4.44000e-01,  4.60620e+01,  1.24000e+00,\n",
       "       -2.47500e+00,  1.13497e+02])"
      ]
     },
     "execution_count": 11,
     "metadata": {},
     "output_type": "execute_result"
    }
   ],
   "source": [
    "tX[0]"
   ]
  },
  {
   "cell_type": "code",
   "execution_count": 12,
   "metadata": {},
   "outputs": [
    {
     "data": {
      "text/plain": [
       "((250000,), 406.34483401069514)"
      ]
     },
     "execution_count": 12,
     "metadata": {},
     "output_type": "execute_result"
    }
   ],
   "source": [
    "(tX[:,0].shape,np.std(tX[:,0]))"
   ]
  },
  {
   "cell_type": "code",
   "execution_count": 13,
   "metadata": {},
   "outputs": [
    {
     "data": {
      "text/plain": [
       "<matplotlib.collections.PathCollection at 0x114ecaeb8>"
      ]
     },
     "execution_count": 13,
     "metadata": {},
     "output_type": "execute_result"
    },
    {
     "data": {
      "image/png": "[encoded data removed]",
      "text/plain": [
       "<Figure size 432x288 with 1 Axes>"
      ]
     },
     "metadata": {
      "needs_background": "light"
     },
     "output_type": "display_data"
    }
   ],
   "source": [
    "plt.scatter(tX[:,0],y, marker=\".\", color='b')"
   ]
  },
  {
   "cell_type": "markdown",
   "metadata": {},
   "source": [
    "### Correlation Matrix:"
   ]
  },
  {
   "cell_type": "code",
   "execution_count": 10,
   "metadata": {
    "scrolled": true
   },
   "outputs": [
    {
     "data": {
      "text/plain": [
       "<matplotlib.image.AxesImage at 0x119ec8780>"
      ]
     },
     "execution_count": 10,
     "metadata": {},
     "output_type": "execute_result"
    },
    {
     "data": {
      "image/png": "[encoded data removed]",
      "text/plain": [
       "<Figure size 432x288 with 1 Axes>"
      ]
     },
     "metadata": {
      "needs_background": "light"
     },
     "output_type": "display_data"
    }
   ],
   "source": [
    "#corrcoef prod des vals normalisées à partir de la mat de correlation\n",
    "cov = np.cov(tX.T)\n",
    "#print(cov.shape, np.max(cov))\n",
    "corr = np.corrcoef(tX.T)\n",
    "#print(corr.shape, (corr))\n",
    "plt.imshow(corr, cmap='hot')\n",
    "#test"
   ]
  },
  {
   "cell_type": "markdown",
   "metadata": {},
   "source": [
    "### PCA:"
   ]
  },
  {
   "cell_type": "code",
   "execution_count": 14,
   "metadata": {},
   "outputs": [
    {
     "data": {
      "text/plain": [
       "<matplotlib.collections.PathCollection at 0x13ffb5518>"
      ]
     },
     "execution_count": 14,
     "metadata": {},
     "output_type": "execute_result"
    },
    {
     "data": {
      "image/png": "[encoded data removed]",
      "text/plain": [
       "<Figure size 432x288 with 1 Axes>"
      ]
     },
     "metadata": {
      "needs_background": "light"
     },
     "output_type": "display_data"
    }
   ],
   "source": [
    "X_pca = pca(tX)\n",
    "plt.scatter(X_pca[:,0],y, marker=\".\", color='b')"
   ]
  },
  {
   "cell_type": "code",
   "execution_count": 15,
   "metadata": {},
   "outputs": [
    {
     "data": {
      "text/plain": [
       "<matplotlib.collections.PathCollection at 0x13a4163c8>"
      ]
     },
     "execution_count": 15,
     "metadata": {},
     "output_type": "execute_result"
    },
    {
     "data": {
      "image/png": "[encoded data removed]",
      "text/plain": [
       "<Figure size 432x288 with 1 Axes>"
      ]
     },
     "metadata": {
      "needs_background": "light"
     },
     "output_type": "display_data"
    }
   ],
   "source": [
    "plt.scatter(X_pca[:,0],X_pca[:,1], marker=\".\", color='b')"
   ]
  },
  {
   "cell_type": "code",
   "execution_count": 17,
   "metadata": {},
   "outputs": [
    {
     "data": {
      "text/plain": [
       "<matplotlib.collections.PathCollection at 0x1340c7358>"
      ]
     },
     "execution_count": 17,
     "metadata": {},
     "output_type": "execute_result"
    },
    {
     "data": {
      "image/png": "[encoded data removed]",
      "text/plain": [
       "<Figure size 432x288 with 1 Axes>"
      ]
     },
     "metadata": {
      "needs_background": "light"
     },
     "output_type": "display_data"
    }
   ],
   "source": [
    "import matplotlib.cm as cm # To colour dots of scatter plot\n",
    "colors = cm.rainbow(y)\n",
    "plt.scatter(X_pca[:,0],X_pca[:,1], marker=\".\", color=colors)"
   ]
  },
  {
   "cell_type": "markdown",
   "metadata": {},
   "source": [
    "## Missing values positions :"
   ]
  },
  {
   "cell_type": "code",
   "execution_count": 11,
   "metadata": {},
   "outputs": [
    {
     "name": "stdout",
     "output_type": "stream",
     "text": [
      "(30,)\n",
      "1580052 0\n"
     ]
    }
   ],
   "source": [
    "tX2 = tX.copy()\n",
    "res = []\n",
    "for el in tX2.T:\n",
    "    res.append(el[el > -999])\n",
    "print(np.array(res).shape)\n",
    "\n",
    "mu = [np.mean(el) for el in res]\n",
    "sigma = [np.std(el) for el in res]\n",
    "\n",
    "for col, mu1, sigma1 in zip(tX2.T,mu,sigma):\n",
    "    col[col == -999] = np.random.normal(mu1, sigma1, np.sum([col == -999][0]))\n",
    "    \n",
    "print(np.sum(tX==-999), np.sum(tX2==-999))"
   ]
  },
  {
   "cell_type": "code",
   "execution_count": 12,
   "metadata": {},
   "outputs": [
    {
     "name": "stdout",
     "output_type": "stream",
     "text": [
      "(250000, 30)\n",
      "(250000, 30)\n",
      "(250000,) (150087, 23)\n",
      "(250000,) (150087, 23)\n",
      "[False False False False  True  True  True False False False False False\n",
      "  True False False False False False False False False False False False\n",
      " False False  True  True  True False]\n"
     ]
    },
    {
     "data": {
      "text/plain": [
       "(array([1720., 1658., 1705., 1662., 1847., 1904., 1892., 1803., 1686.,\n",
       "        1659., 1594., 1459., 1467., 1409., 1324., 1315., 1313., 1268.,\n",
       "        1133., 1159., 1089., 1041., 1118., 1144., 1165., 1158., 1079.,\n",
       "        1082., 1043., 1026., 1017., 1017., 1003.,  987.,  969.,  923.,\n",
       "         920.,  924.,  970.,  899.,  832.,  912.,  812.,  801.,  817.,\n",
       "         874.,  792.,  846.,  812.,  754.,  782.,  756.,  711.,  675.,\n",
       "         661.,  636.,  603.,  607.,  547.,  582.,  517.,  481.,  485.,\n",
       "         425.,  344.,  388.,  350.,  350.,  296.,  277.,  248.,  234.,\n",
       "         222.,  175.,  176.,  171.,  124.,  138.,  132.,   90.,   91.,\n",
       "          82.,   56.,   61.,   46.,   52.,   31.,   25.,   29.,   22.,\n",
       "          14.,   10.,   11.,   11.,    4.,    2.,    3.,    5.,    0.,\n",
       "           2.]),\n",
       " array([0.     , 0.08503, 0.17006, 0.25509, 0.34012, 0.42515, 0.51018,\n",
       "        0.59521, 0.68024, 0.76527, 0.8503 , 0.93533, 1.02036, 1.10539,\n",
       "        1.19042, 1.27545, 1.36048, 1.44551, 1.53054, 1.61557, 1.7006 ,\n",
       "        1.78563, 1.87066, 1.95569, 2.04072, 2.12575, 2.21078, 2.29581,\n",
       "        2.38084, 2.46587, 2.5509 , 2.63593, 2.72096, 2.80599, 2.89102,\n",
       "        2.97605, 3.06108, 3.14611, 3.23114, 3.31617, 3.4012 , 3.48623,\n",
       "        3.57126, 3.65629, 3.74132, 3.82635, 3.91138, 3.99641, 4.08144,\n",
       "        4.16647, 4.2515 , 4.33653, 4.42156, 4.50659, 4.59162, 4.67665,\n",
       "        4.76168, 4.84671, 4.93174, 5.01677, 5.1018 , 5.18683, 5.27186,\n",
       "        5.35689, 5.44192, 5.52695, 5.61198, 5.69701, 5.78204, 5.86707,\n",
       "        5.9521 , 6.03713, 6.12216, 6.20719, 6.29222, 6.37725, 6.46228,\n",
       "        6.54731, 6.63234, 6.71737, 6.8024 , 6.88743, 6.97246, 7.05749,\n",
       "        7.14252, 7.22755, 7.31258, 7.39761, 7.48264, 7.56767, 7.6527 ,\n",
       "        7.73773, 7.82276, 7.90779, 7.99282, 8.07785, 8.16288, 8.24791,\n",
       "        8.33294, 8.41797, 8.503  ]),\n",
       " <a list of 100 Patch objects>)"
      ]
     },
     "execution_count": 12,
     "metadata": {},
     "output_type": "execute_result"
    },
    {
     "data": {
      "image/png": "[encoded data removed]",
      "text/plain": [
       "<Figure size 432x288 with 1 Axes>"
      ]
     },
     "metadata": {
      "needs_background": "light"
     },
     "output_type": "display_data"
    }
   ],
   "source": [
    "# quest-ce qu'il ya exactement dans graphe ?\n",
    "\n",
    "missing_val = np.zeros(tX.shape)\n",
    "print(missing_val.shape)\n",
    "missing_val[tX==-999] = 1\n",
    "total_cols = np.sum(missing_val, axis=0)/y.shape\n",
    "total_rows = np.sum(missing_val, axis=1)/np.shape(tX)[1]\n",
    "print(missing_val.shape)\n",
    "tX_reduced = tX[: ,total_cols < 0.5] #select only cols where less than 50% val missing and < 30% for rows\n",
    "tX_reduced = tX_reduced[total_rows<0.3, :] #and < 30% for rows\n",
    "y_reduced = y[total_rows<0.3]\n",
    "print(np.shape(total_rows), tX_reduced.shape)\n",
    "print(np.shape(total_rows>0.3), tX_reduced.shape)\n",
    "print(total_cols >0.5)\n",
    "\n",
    "tXcol = [el for el in tX[:,4] if el > -999]\n",
    "#plt.hist(tX[:,4])\n",
    "plt.hist(tXcol, bins=100)"
   ]
  },
  {
   "cell_type": "markdown",
   "metadata": {},
   "source": [
    "## Data preprocessing (global) :"
   ]
  },
  {
   "cell_type": "markdown",
   "metadata": {},
   "source": [
    "## comment faire pour revenir en arrière pour faire le data preprocessing ensuite pour chaque pattern ?"
   ]
  },
  {
   "cell_type": "code",
   "execution_count": 20,
   "metadata": {},
   "outputs": [
    {
     "ename": "NameError",
     "evalue": "name 'np' is not defined",
     "output_type": "error",
     "traceback": [
      "\u001b[0;31m---------------------------------------------------------------------------\u001b[0m",
      "\u001b[0;31mNameError\u001b[0m                                 Traceback (most recent call last)",
      "\u001b[0;32m<ipython-input-20-515e9e158222>\u001b[0m in \u001b[0;36m<module>\u001b[0;34m\u001b[0m\n\u001b[0;32m----> 1\u001b[0;31m \u001b[0mx\u001b[0m\u001b[0;34m,\u001b[0m \u001b[0mmean_x\u001b[0m\u001b[0;34m,\u001b[0m \u001b[0mstd_x\u001b[0m \u001b[0;34m=\u001b[0m \u001b[0mstandardize\u001b[0m\u001b[0;34m(\u001b[0m\u001b[0mtX\u001b[0m\u001b[0;34m)\u001b[0m\u001b[0;34m\u001b[0m\u001b[0;34m\u001b[0m\u001b[0m\n\u001b[0m\u001b[1;32m      2\u001b[0m \u001b[0mtX\u001b[0m \u001b[0;34m=\u001b[0m \u001b[0madding_offset\u001b[0m\u001b[0;34m(\u001b[0m\u001b[0mx\u001b[0m\u001b[0;34m)\u001b[0m\u001b[0;34m\u001b[0m\u001b[0;34m\u001b[0m\u001b[0m\n",
      "\u001b[0;32m~/Desktop/Projet-Super-Genial-/project1/scripts/datapreprocessing.py\u001b[0m in \u001b[0;36mstandardize\u001b[0;34m(x)\u001b[0m\n\u001b[1;32m      3\u001b[0m \u001b[0;32mdef\u001b[0m \u001b[0mstandardize\u001b[0m\u001b[0;34m(\u001b[0m\u001b[0mx\u001b[0m\u001b[0;34m)\u001b[0m\u001b[0;34m:\u001b[0m\u001b[0;34m\u001b[0m\u001b[0;34m\u001b[0m\u001b[0m\n\u001b[1;32m      4\u001b[0m     \u001b[0;34m\"\"\"Standardize the original data set.\"\"\"\u001b[0m\u001b[0;34m\u001b[0m\u001b[0;34m\u001b[0m\u001b[0m\n\u001b[0;32m----> 5\u001b[0;31m     \u001b[0mmean_x\u001b[0m \u001b[0;34m=\u001b[0m \u001b[0mnp\u001b[0m\u001b[0;34m.\u001b[0m\u001b[0mmean\u001b[0m\u001b[0;34m(\u001b[0m\u001b[0mx\u001b[0m\u001b[0;34m)\u001b[0m\u001b[0;34m\u001b[0m\u001b[0;34m\u001b[0m\u001b[0m\n\u001b[0m\u001b[1;32m      6\u001b[0m     \u001b[0mx\u001b[0m \u001b[0;34m=\u001b[0m \u001b[0mx\u001b[0m \u001b[0;34m-\u001b[0m \u001b[0mmean_x\u001b[0m\u001b[0;34m\u001b[0m\u001b[0;34m\u001b[0m\u001b[0m\n\u001b[1;32m      7\u001b[0m     \u001b[0mstd_x\u001b[0m \u001b[0;34m=\u001b[0m \u001b[0mnp\u001b[0m\u001b[0;34m.\u001b[0m\u001b[0mstd\u001b[0m\u001b[0;34m(\u001b[0m\u001b[0mx\u001b[0m\u001b[0;34m)\u001b[0m\u001b[0;34m\u001b[0m\u001b[0;34m\u001b[0m\u001b[0m\n",
      "\u001b[0;31mNameError\u001b[0m: name 'np' is not defined"
     ]
    }
   ],
   "source": [
    "x, mean_x, std_x = standardize(tX)\n",
    "tX = adding_offset(x)"
   ]
  },
  {
   "cell_type": "markdown",
   "metadata": {},
   "source": [
    "## Least squares gradient descent :"
   ]
  },
  {
   "cell_type": "code",
   "execution_count": 20,
   "metadata": {},
   "outputs": [
    {
     "name": "stdout",
     "output_type": "stream",
     "text": [
      "Gradient Descent(0/999): loss=0.3573330015768276, w0=-0.0002798061479453727, w1=-0.008178664855235555\n",
      "Gradient Descent(30/999): loss=4.9482646310504405e+243, w0=-8.135150038982155e+122, w1=-3.1181701565343077e+122\n",
      "Gradient Descent(60/999): loss=inf, w0=-2.9699996794839654e+257, w1=-1.1383888829470408e+257\n",
      "Gradient Descent(90/999): loss=nan, w0=nan, w1=nan\n",
      "Gradient Descent(120/999): loss=nan, w0=nan, w1=nan\n",
      "Gradient Descent(150/999): loss=nan, w0=nan, w1=nan\n",
      "Gradient Descent(180/999): loss=nan, w0=nan, w1=nan\n",
      "Gradient Descent(210/999): loss=nan, w0=nan, w1=nan\n",
      "Gradient Descent(240/999): loss=nan, w0=nan, w1=nan\n",
      "Gradient Descent(270/999): loss=nan, w0=nan, w1=nan\n",
      "Gradient Descent(300/999): loss=nan, w0=nan, w1=nan\n",
      "Gradient Descent(330/999): loss=nan, w0=nan, w1=nan\n",
      "Gradient Descent(360/999): loss=nan, w0=nan, w1=nan\n",
      "Gradient Descent(390/999): loss=nan, w0=nan, w1=nan\n",
      "Gradient Descent(420/999): loss=nan, w0=nan, w1=nan\n",
      "Gradient Descent(450/999): loss=nan, w0=nan, w1=nan\n",
      "Gradient Descent(480/999): loss=nan, w0=nan, w1=nan\n",
      "Gradient Descent(510/999): loss=nan, w0=nan, w1=nan\n",
      "Gradient Descent(540/999): loss=nan, w0=nan, w1=nan\n",
      "Gradient Descent(570/999): loss=nan, w0=nan, w1=nan\n",
      "Gradient Descent(600/999): loss=nan, w0=nan, w1=nan\n",
      "Gradient Descent(630/999): loss=nan, w0=nan, w1=nan\n",
      "Gradient Descent(660/999): loss=nan, w0=nan, w1=nan\n",
      "Gradient Descent(690/999): loss=nan, w0=nan, w1=nan\n",
      "Gradient Descent(720/999): loss=nan, w0=nan, w1=nan\n",
      "Gradient Descent(750/999): loss=nan, w0=nan, w1=nan\n",
      "Gradient Descent(780/999): loss=nan, w0=nan, w1=nan\n",
      "Gradient Descent(810/999): loss=nan, w0=nan, w1=nan\n",
      "Gradient Descent(840/999): loss=nan, w0=nan, w1=nan\n",
      "Gradient Descent(870/999): loss=nan, w0=nan, w1=nan\n",
      "Gradient Descent(900/999): loss=nan, w0=nan, w1=nan\n",
      "Gradient Descent(930/999): loss=nan, w0=nan, w1=nan\n",
      "Gradient Descent(960/999): loss=nan, w0=nan, w1=nan\n",
      "Gradient Descent(990/999): loss=nan, w0=nan, w1=nan\n"
     ]
    }
   ],
   "source": [
    "initial_w = np.zeros(np.shape(tX2)[1])\n",
    "gamma = 0.0815\n",
    "max_iters = 1000\n",
    "final_w, final_loss = least_squares_GD(y, tX2, w1, max_iters, gamma)"
   ]
  },
  {
   "cell_type": "markdown",
   "metadata": {},
   "source": [
    "## Least squares stochastic gradient descent :"
   ]
  },
  {
   "cell_type": "code",
   "execution_count": 17,
   "metadata": {},
   "outputs": [
    {
     "name": "stdout",
     "output_type": "stream",
     "text": [
      "Gradient Descent(0/999): loss=865907.6352200226, w0=-0.427935, w1=-0.15632\n",
      "Gradient Descent(10/999): loss=1.4616456522190779e+65, w0=2.628843140599987e+29, w1=1.651630567976175e+29\n",
      "Gradient Descent(20/999): loss=2.1067450756653428e+126, w0=2.603404278159179e+60, w1=1.6077947901046667e+60\n",
      "Gradient Descent(30/999): loss=1.9077055358565181e+180, w0=-2.3372700760589257e+87, w1=-9.83778642794131e+86\n",
      "Gradient Descent(40/999): loss=1.972000634367493e+233, w0=-2.7907018583850882e+113, w1=-1.5156372627867183e+113\n",
      "Gradient Descent(50/999): loss=7.660622590539153e+295, w0=-3.295059541193246e+144, w1=-3.6698785082302098e+143\n",
      "Gradient Descent(60/999): loss=inf, w0=6.784543449182488e+171, w1=1.2928017998166602e+171\n",
      "Gradient Descent(70/999): loss=inf, w0=8.030302211228767e+200, w1=1.9528051292718482e+200\n",
      "Gradient Descent(80/999): loss=inf, w0=1.5376326218319444e+232, w1=6.028694818394667e+231\n",
      "Gradient Descent(90/999): loss=inf, w0=2.146647498458633e+262, w1=1.0070137919203605e+262\n",
      "Gradient Descent(100/999): loss=inf, w0=7.461288587127845e+289, w1=2.202488579424432e+289\n",
      "Gradient Descent(110/999): loss=nan, w0=nan, w1=nan\n",
      "Gradient Descent(120/999): loss=nan, w0=nan, w1=nan\n",
      "Gradient Descent(130/999): loss=nan, w0=nan, w1=nan\n",
      "Gradient Descent(140/999): loss=nan, w0=nan, w1=nan\n"
     ]
    },
    {
     "ename": "KeyboardInterrupt",
     "evalue": "",
     "output_type": "error",
     "traceback": [
      "\u001b[0;31m---------------------------------------------------------------------------\u001b[0m",
      "\u001b[0;31mKeyboardInterrupt\u001b[0m                         Traceback (most recent call last)",
      "\u001b[0;32m<ipython-input-17-c66ac8694221>\u001b[0m in \u001b[0;36m<module>\u001b[0;34m\u001b[0m\n\u001b[1;32m      1\u001b[0m \u001b[0;31m#Stochastic GD\u001b[0m\u001b[0;34m\u001b[0m\u001b[0;34m\u001b[0m\u001b[0;34m\u001b[0m\u001b[0m\n\u001b[1;32m      2\u001b[0m \u001b[0mgamma\u001b[0m \u001b[0;34m=\u001b[0m \u001b[0;36m0.005\u001b[0m\u001b[0;34m\u001b[0m\u001b[0;34m\u001b[0m\u001b[0m\n\u001b[0;32m----> 3\u001b[0;31m \u001b[0mfinal_loss\u001b[0m\u001b[0;34m,\u001b[0m \u001b[0mfinal_w_sgd\u001b[0m \u001b[0;34m=\u001b[0m \u001b[0mleastsquaresSGD\u001b[0m\u001b[0;34m(\u001b[0m\u001b[0my\u001b[0m\u001b[0;34m,\u001b[0m \u001b[0mtX2\u001b[0m\u001b[0;34m,\u001b[0m \u001b[0minitial_w\u001b[0m\u001b[0;34m,\u001b[0m \u001b[0mmax_iters\u001b[0m\u001b[0;34m,\u001b[0m \u001b[0mgamma\u001b[0m\u001b[0;34m)\u001b[0m\u001b[0;34m\u001b[0m\u001b[0;34m\u001b[0m\u001b[0m\n\u001b[0m\u001b[1;32m      4\u001b[0m \u001b[0mprint\u001b[0m\u001b[0;34m(\u001b[0m\u001b[0mfinal_loss\u001b[0m\u001b[0;34m,\u001b[0m \u001b[0mfinal_w\u001b[0m\u001b[0;34m)\u001b[0m\u001b[0;34m\u001b[0m\u001b[0;34m\u001b[0m\u001b[0m\n",
      "\u001b[0;32m~/Desktop/Projet-Super-Genial-/project1/scripts/UtilityFunctions.py\u001b[0m in \u001b[0;36mleastsquaresSGD\u001b[0;34m(y, tx, initial_w, max_iters, gamma, batch_size)\u001b[0m\n\u001b[1;32m     91\u001b[0m     \u001b[0mw\u001b[0m \u001b[0;34m=\u001b[0m \u001b[0minitial_w\u001b[0m\u001b[0;34m\u001b[0m\u001b[0;34m\u001b[0m\u001b[0m\n\u001b[1;32m     92\u001b[0m     \u001b[0;32mfor\u001b[0m \u001b[0mn_iter\u001b[0m \u001b[0;32min\u001b[0m \u001b[0mrange\u001b[0m\u001b[0;34m(\u001b[0m\u001b[0mmax_iters\u001b[0m\u001b[0;34m)\u001b[0m\u001b[0;34m:\u001b[0m\u001b[0;34m\u001b[0m\u001b[0;34m\u001b[0m\u001b[0m\n\u001b[0;32m---> 93\u001b[0;31m         \u001b[0;32mfor\u001b[0m \u001b[0mminibatch_y\u001b[0m\u001b[0;34m,\u001b[0m \u001b[0mminibatch_tx\u001b[0m \u001b[0;32min\u001b[0m \u001b[0mbatch_iter\u001b[0m\u001b[0;34m(\u001b[0m\u001b[0my\u001b[0m\u001b[0;34m,\u001b[0m \u001b[0mtx\u001b[0m\u001b[0;34m,\u001b[0m \u001b[0mbatch_size\u001b[0m\u001b[0;34m)\u001b[0m\u001b[0;34m:\u001b[0m\u001b[0;34m\u001b[0m\u001b[0;34m\u001b[0m\u001b[0m\n\u001b[0m\u001b[1;32m     94\u001b[0m                 \u001b[0mgrad\u001b[0m \u001b[0;34m=\u001b[0m \u001b[0mcompute_gradient\u001b[0m\u001b[0;34m(\u001b[0m\u001b[0mminibatch_y\u001b[0m\u001b[0;34m,\u001b[0m \u001b[0mminibatch_tx\u001b[0m\u001b[0;34m,\u001b[0m\u001b[0mw\u001b[0m\u001b[0;34m)\u001b[0m\u001b[0;34m\u001b[0m\u001b[0;34m\u001b[0m\u001b[0m\n\u001b[1;32m     95\u001b[0m         \u001b[0mgrad\u001b[0m \u001b[0;34m=\u001b[0m \u001b[0mgrad\u001b[0m \u001b[0;34m/\u001b[0m \u001b[0mbatch_size\u001b[0m\u001b[0;34m\u001b[0m\u001b[0;34m\u001b[0m\u001b[0m\n",
      "\u001b[0;32m~/Desktop/Projet-Super-Genial-/project1/scripts/UtilityFunctions.py\u001b[0m in \u001b[0;36mbatch_iter\u001b[0;34m(y, tx, batch_size, num_batches, shuffle)\u001b[0m\n\u001b[1;32m     74\u001b[0m         \u001b[0mshuffle_indices\u001b[0m \u001b[0;34m=\u001b[0m \u001b[0mnp\u001b[0m\u001b[0;34m.\u001b[0m\u001b[0mrandom\u001b[0m\u001b[0;34m.\u001b[0m\u001b[0mpermutation\u001b[0m\u001b[0;34m(\u001b[0m\u001b[0mnp\u001b[0m\u001b[0;34m.\u001b[0m\u001b[0marange\u001b[0m\u001b[0;34m(\u001b[0m\u001b[0mdata_size\u001b[0m\u001b[0;34m)\u001b[0m\u001b[0;34m)\u001b[0m\u001b[0;34m\u001b[0m\u001b[0;34m\u001b[0m\u001b[0m\n\u001b[1;32m     75\u001b[0m         \u001b[0mshuffled_y\u001b[0m \u001b[0;34m=\u001b[0m \u001b[0my\u001b[0m\u001b[0;34m[\u001b[0m\u001b[0mshuffle_indices\u001b[0m\u001b[0;34m]\u001b[0m\u001b[0;34m\u001b[0m\u001b[0;34m\u001b[0m\u001b[0m\n\u001b[0;32m---> 76\u001b[0;31m         \u001b[0mshuffled_tx\u001b[0m \u001b[0;34m=\u001b[0m \u001b[0mtx\u001b[0m\u001b[0;34m[\u001b[0m\u001b[0mshuffle_indices\u001b[0m\u001b[0;34m]\u001b[0m\u001b[0;34m\u001b[0m\u001b[0;34m\u001b[0m\u001b[0m\n\u001b[0m\u001b[1;32m     77\u001b[0m     \u001b[0;32melse\u001b[0m\u001b[0;34m:\u001b[0m\u001b[0;34m\u001b[0m\u001b[0;34m\u001b[0m\u001b[0m\n\u001b[1;32m     78\u001b[0m         \u001b[0mshuffled_y\u001b[0m \u001b[0;34m=\u001b[0m \u001b[0my\u001b[0m\u001b[0;34m\u001b[0m\u001b[0;34m\u001b[0m\u001b[0m\n",
      "\u001b[0;31mKeyboardInterrupt\u001b[0m: "
     ]
    }
   ],
   "source": [
    "\n",
    "gamma = 0.005\n",
    "final_w_sgd, final_loss = least_squares_SGD(y, tX2, initial_w, max_iters, gamma)\n",
    "print(final_loss, final_w)"
   ]
  },
  {
   "cell_type": "markdown",
   "metadata": {},
   "source": [
    "## Least squares with normal equation "
   ]
  },
  {
   "cell_type": "code",
   "execution_count": 21,
   "metadata": {},
   "outputs": [
    {
     "ename": "NameError",
     "evalue": "name 'tX2' is not defined",
     "output_type": "error",
     "traceback": [
      "\u001b[0;31m---------------------------------------------------------------------------\u001b[0m",
      "\u001b[0;31mNameError\u001b[0m                                 Traceback (most recent call last)",
      "\u001b[0;32m<ipython-input-21-3631bbf0df99>\u001b[0m in \u001b[0;36m<module>\u001b[0;34m\u001b[0m\n\u001b[1;32m      1\u001b[0m \u001b[0;31m# performs worse\u001b[0m\u001b[0;34m\u001b[0m\u001b[0;34m\u001b[0m\u001b[0;34m\u001b[0m\u001b[0m\n\u001b[0;32m----> 2\u001b[0;31m \u001b[0mw1\u001b[0m\u001b[0;34m,\u001b[0m\u001b[0mloss1\u001b[0m\u001b[0;34m=\u001b[0m \u001b[0mleast_squares\u001b[0m\u001b[0;34m(\u001b[0m\u001b[0my\u001b[0m\u001b[0;34m,\u001b[0m \u001b[0mtX2\u001b[0m\u001b[0;34m)\u001b[0m\u001b[0;34m\u001b[0m\u001b[0;34m\u001b[0m\u001b[0m\n\u001b[0m\u001b[1;32m      3\u001b[0m \u001b[0mprint\u001b[0m\u001b[0;34m(\u001b[0m\u001b[0mloss1\u001b[0m\u001b[0;34m,\u001b[0m \u001b[0mw1\u001b[0m\u001b[0;34m)\u001b[0m\u001b[0;34m\u001b[0m\u001b[0;34m\u001b[0m\u001b[0m\n",
      "\u001b[0;31mNameError\u001b[0m: name 'tX2' is not defined"
     ]
    }
   ],
   "source": [
    "# performs worse\n",
    "w1,loss1= least_squares(y, tX2)\n",
    "print(loss1, w1)"
   ]
  },
  {
   "cell_type": "markdown",
   "metadata": {},
   "source": [
    "## Generate predictions and save ouput in csv format for submission:"
   ]
  },
  {
   "cell_type": "code",
   "execution_count": 27,
   "metadata": {},
   "outputs": [],
   "source": [
    "DATA_TEST_PATH = '../data/test.csv' # TODO: download train data and supply path here \n",
    "_, tX_test, ids_test = load_csv_data(DATA_TEST_PATH)"
   ]
  },
  {
   "cell_type": "code",
   "execution_count": 28,
   "metadata": {},
   "outputs": [],
   "source": [
    "OUTPUT_PATH = '../data/predicted.csv' # TODO: fill in desired name of output file for submission\n",
    "tX_test, mean_x, std_x = standardize(tX_test)\n",
    "tX_test  = np.c_[np.ones(tX_test.shape[0]), tX_test]\n",
    "y_pred = predict_labels(w1, tX_test)\n",
    "create_csv_submission(ids_test, y_pred, OUTPUT_PATH)"
   ]
  },
  {
   "cell_type": "code",
   "execution_count": null,
   "metadata": {
    "collapsed": true
   },
   "outputs": [],
   "source": [
    "#implementer 10% du train set comme test set"
   ]
  }
 ],
 "metadata": {
  "anaconda-cloud": {},
  "kernelspec": {
   "display_name": "Python 3",
   "language": "python",
   "name": "python3"
  },
  "language_info": {
   "codemirror_mode": {
    "name": "ipython",
    "version": 3
   },
   "file_extension": ".py",
   "mimetype": "text/x-python",
   "name": "python",
   "nbconvert_exporter": "python",
   "pygments_lexer": "ipython3",
   "version": "3.7.3"
  }
 },
 "nbformat": 4,
 "nbformat_minor": 1
}
