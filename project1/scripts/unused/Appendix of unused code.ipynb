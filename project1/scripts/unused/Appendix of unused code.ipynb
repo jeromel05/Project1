{
 "cells": [
  {
   "cell_type": "code",
   "execution_count": null,
   "metadata": {},
   "outputs": [],
   "source": []
  },
  {
   "cell_type": "code",
   "execution_count": 17,
   "metadata": {},
   "outputs": [],
   "source": [
    "seeds = range(5)\n",
    "max_iters = 10\n",
    "threshold = 10**(-5)\n",
    "lambdas = np.logspace(-4, 0, 30)\n",
    "gamma = 1\n",
    "split_ratios = [0.9]\n",
    "degree_max = 10\n",
    "degrees = range(1,degree_max+1)"
   ]
  },
  {
   "cell_type": "code",
   "execution_count": 13,
   "metadata": {},
   "outputs": [],
   "source": [
    "rmse_tr, rmse_te, abse_tr, abse_te = np.load('./results_of_lengthy_computations/errors_tuning_parameters_penalized_logistic_regression_basic_feature_expansion.npy')"
   ]
  },
  {
   "cell_type": "code",
   "execution_count": 14,
   "metadata": {},
   "outputs": [],
   "source": [
    "ind_lambda_min_mean_rmse_te = np.argmin(np.mean(rmse_te,axis = 2),axis = 3)[:,0]"
   ]
  },
  {
   "cell_type": "code",
   "execution_count": 15,
   "metadata": {},
   "outputs": [],
   "source": [
    "ind_lambda_min_median_rmse_te = np.argmin(np.median(rmse_te,axis = 2),axis = 3)[:,0]"
   ]
  },
  {
   "cell_type": "code",
   "execution_count": null,
   "metadata": {},
   "outputs": [],
   "source": []
  },
  {
   "cell_type": "markdown",
   "metadata": {},
   "source": [
    "The testing RMSEs can be groupwise represented as a histogram, always taking the lambda minimizing the mean of the error for each value of the maximal degree of polynomial terms added."
   ]
  },
  {
   "cell_type": "code",
   "execution_count": 18,
   "metadata": {},
   "outputs": [
    {
     "data": {
      "image/png": "[encoded data removed]",
      "text/plain": [
       "<Figure size 432x288 with 6 Axes>"
      ]
     },
     "metadata": {
      "needs_background": "light"
     },
     "output_type": "display_data"
    }
   ],
   "source": [
    "num_col = 3\n",
    "num_row = int(np.ceil(rmse_te.shape[0]/num_col))\n",
    "\n",
    "for ind_split_ratio in range(rmse_te.shape[1]):\n",
    "    f, axs = plt.subplots(num_row, num_col)\n",
    "    ind_lambda_min_mean_rmse_te = np.argmin(np.mean(rmse_te[:,ind_split_ratio,:,:,:],axis = 1),axis = 2)\n",
    "\n",
    "    for ind_group in range(rmse_te.shape[0]):\n",
    "        #print('RMSE of group ' + str(ind_group) + ' with lambdas = ' + str(lambdas[ind_lambda_min_mean_rmse_te[ind_group]]) + 'minimizing mean(RMSE)')\n",
    "        with np.printoptions(precision=3, suppress=False):\n",
    "           # print(\"RMSE of group = {ind}, with lambdas = {ls} minimizing mean(RMSE) :\".format(\n",
    "            #    ind = ind_group, ls= lambdas[ind_lambda_min_median_rmse_te[ind_group]]))\n",
    "            box_plot_data = rmse_te[ind_group,ind_split_ratio,:,np.arange(len(degrees)),ind_lambda_min_mean_rmse_te[ind_group]]\n",
    "        #print(box_plot_data)\n",
    "        \n",
    "        ax = axs[ind_group // num_col][ind_group % num_col]\n",
    "        ax.boxplot(box_plot_data.T)\n",
    "    \n",
    "        #ax.set_xlabel(\"pc\")\n",
    "        #ax.set_ylabel(\"pca_2\")\n",
    "\n",
    "    plt.tight_layout()\n",
    "    plt.savefig(\"./plots/boxplot_error_groups_penalized_logistic_regression_basic_feature_engineering_mean_split_ratio_\" + str(split_ratios[ind_split_ratio]).replace('.','_'))\n",
    "    plt.show()"
   ]
  },
  {
   "cell_type": "code",
   "execution_count": 95,
   "metadata": {},
   "outputs": [
    {
     "name": "stdout",
     "output_type": "stream",
     "text": [
      "ABSE of group = 0, with lambdas = [8.532e-03 2.212e-02 1.000e-04 1.000e-04 1.000e-04 6.210e-03 2.807e-01\n",
      " 1.083e-01 4.520e-03 3.562e-04] minimizing median(RMSE) :\n",
      "[[1901. 1898. 1811. 1806. 1880.]\n",
      " [1313. 1340. 1315. 1319. 1354.]\n",
      " [1304. 1302. 3248. 1241. 3202.]\n",
      " [1205. 1176. 1206. 1213. 1186.]\n",
      " [1200. 1158. 1204. 1201. 1170.]\n",
      " [1177. 3243. 1206. 1201. 1174.]\n",
      " [1173. 1142. 1172. 1173. 1165.]\n",
      " [1171. 1127. 1168. 1185. 1162.]\n",
      " [1170. 1117. 1161. 1179. 1163.]\n",
      " [1160. 1111. 1157. 1177. 3202.]]\n",
      "ABSE of group = 1, with lambdas = [3.039e-02 6.210e-03 2.043e-01 1.000e-04 1.000e-04 1.000e-04 1.000e-04\n",
      " 1.000e-04 1.000e-04 1.000e-04] minimizing median(RMSE) :\n",
      "[[2169. 2188. 2196. 2094. 2161.]\n",
      " [1577. 1579. 1569. 1473. 1489.]\n",
      " [1502. 1500. 1531. 1441. 1430.]\n",
      " [2667. 2741. 2723. 2705. 2700.]\n",
      " [2667. 2741. 2723. 2705. 2700.]\n",
      " [2667. 2741. 2723. 2705. 2700.]\n",
      " [2667. 2741. 2723. 2705. 2700.]\n",
      " [2667. 2741. 2723. 2705. 2700.]\n",
      " [2667. 2741. 2723. 2705. 2700.]\n",
      " [2667. 2741. 2723. 2705. 2700.]]\n",
      "ABSE of group = 2, with lambdas = [1.000e+00 1.000e-04 1.374e-04 1.000e-04 1.000e-04 1.000e-04 1.000e-04\n",
      " 1.000e-04 1.000e-04 1.000e-04] minimizing median(RMSE) :\n",
      "[[1577. 1556. 1555. 1569. 1535.]\n",
      " [1515. 2348. 2347. 1510. 2375.]\n",
      " [1498. 1431. 1407. 1438. 1435.]\n",
      " [2460. 2348. 2347. 2445. 2375.]\n",
      " [2460. 2348. 2347. 2445. 2375.]\n",
      " [2460. 2348. 2347. 2445. 2375.]\n",
      " [2460. 2348. 2347. 2445. 2375.]\n",
      " [2460. 2348. 2347. 2445. 2375.]\n",
      " [2460. 2348. 2347. 2445. 2375.]\n",
      " [2460. 2348. 2347. 2445. 2375.]]\n",
      "ABSE of group = 3, with lambdas = [3.290e-03 1.000e+00 5.736e-02 9.237e-04 1.487e-01 1.000e+00 3.857e-01\n",
      " 1.000e+00 1.000e+00 6.210e-03] minimizing median(RMSE) :\n",
      "[[43. 40. 50. 43. 37.]\n",
      " [38. 34. 46. 41. 43.]\n",
      " [34. 31. 49. 42. 43.]\n",
      " [41. 34. 50. 38. 39.]\n",
      " [37. 33. 49. 42. 38.]\n",
      " [43. 34. 52. 43. 40.]\n",
      " [40. 33. 53. 46. 41.]\n",
      " [39. 37. 54. 44. 38.]\n",
      " [41. 37. 51. 42. 39.]\n",
      " [42. 43. 59. 46. 41.]]\n",
      "ABSE of group = 4, with lambdas = [1.e-04 1.e+00 1.e-04 1.e-04 1.e-04 1.e-04 1.e-04 1.e-04 1.e-04 1.e-04] minimizing median(RMSE) :\n",
      "[[74. 67. 60. 58. 73.]\n",
      " [72. 63. 62. 56. 73.]\n",
      " [70. 66. 61. 55. 69.]\n",
      " [62. 67. 56. 56. 69.]\n",
      " [70. 71. 65. 63. 84.]\n",
      " [70. 71. 65. 63. 84.]\n",
      " [70. 71. 65. 63. 84.]\n",
      " [70. 71. 65. 63. 84.]\n",
      " [70. 71. 65. 63. 84.]\n",
      " [70. 71. 65. 63. 84.]]\n",
      "ABSE of group = 5, with lambdas = [0.   0.03 0.   0.   0.   0.   0.   0.   0.   0.  ] minimizing median(RMSE) :\n",
      "[[127. 128. 139. 137. 148.]\n",
      " [122. 122. 131. 133. 142.]\n",
      " [123. 122. 135. 131. 137.]\n",
      " [142. 148. 146. 161. 169.]\n",
      " [142. 148. 146. 161. 169.]\n",
      " [142. 148. 146. 161. 169.]\n",
      " [142. 148. 146. 161. 169.]\n",
      " [142. 148. 146. 161. 169.]\n",
      " [142. 148. 146. 161. 169.]\n",
      " [142. 148. 146. 161. 169.]]\n"
     ]
    },
    {
     "data": {
      "image/png": "[encoded data removed]",
      "text/plain": [
       "<Figure size 432x288 with 6 Axes>"
      ]
     },
     "metadata": {
      "needs_background": "light"
     },
     "output_type": "display_data"
    }
   ],
   "source": [
    "num_col = 3\n",
    "num_row = int(np.ceil(rmse_te.shape[0]/num_col))\n",
    "\n",
    "for ind_split_ratio in range(rmse_te.shape[1]):\n",
    "    f, axs = plt.subplots(num_row, num_col)\n",
    "    ind_lambda_min_median_rmse_te = np.argmin(np.median(rmse_te[:,ind_split_ratio,:,:,:],axis = 1),axis = 2)\n",
    "\n",
    "    for ind_group in range(rmse_te.shape[0]):\n",
    "        #print('RMSE of group ' + str(ind_group) + ' with lambdas = ' + str(lambdas[ind_lambda_min_mean_rmse_te[ind_group]]) + 'minimizing mean(RMSE)')\n",
    "        with np.printoptions(precision=3, suppress=False):\n",
    "           # print(\"ABSE of group = {ind}, with lambdas = {ls} minimizing median(RMSE) :\".format(\n",
    "            #    ind = ind_group, ls= lambdas[ind_lambda_min_median_rmse_te[ind_group]]))\n",
    "            box_plot_data = abse_te[ind_group,ind_split_ratio,:,np.arange(len(degrees)),ind_lambda_min_mean_rmse_te[ind_group]]\n",
    "        #print(box_plot_data)\n",
    "        \n",
    "        ax = axs[ind_group // num_col][ind_group % num_col]\n",
    "        ax.boxplot(box_plot_data.T)\n",
    "    \n",
    "        ax.set_title(\"group \"+str(ind_group))\n",
    "        ax.set_xticklabels(np.around(ax.get_xticks(),2))\n",
    "        ax.set_xlabel(\"degree\")\n",
    "\n",
    "    plt.tight_layout()\n",
    "    plt.savefig(\"./plots/boxplot_abs_error_groups_penalized_logistic_regression_basic_feature_engineering_median_split_ratio_\" + str(split_ratios[ind_split_ratio]).replace('.','_'))\n",
    "    plt.show()"
   ]
  },
  {
   "cell_type": "code",
   "execution_count": null,
   "metadata": {},
   "outputs": [],
   "source": []
  }
 ],
 "metadata": {
  "kernelspec": {
   "display_name": "Python 3",
   "language": "python",
   "name": "python3"
  },
  "language_info": {
   "codemirror_mode": {
    "name": "ipython",
    "version": 3
   },
   "file_extension": ".py",
   "mimetype": "text/x-python",
   "name": "python",
   "nbconvert_exporter": "python",
   "pygments_lexer": "ipython3",
   "version": "3.6.8"
  }
 },
 "nbformat": 4,
 "nbformat_minor": 2
}
