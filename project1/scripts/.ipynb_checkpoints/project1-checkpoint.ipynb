{
 "cells": [
  {
   "cell_type": "code",
   "execution_count": 21,
   "metadata": {},
   "outputs": [
    {
     "name": "stdout",
     "output_type": "stream",
     "text": [
      "The autoreload extension is already loaded. To reload it, use:\n",
      "  %reload_ext autoreload\n"
     ]
    }
   ],
   "source": [
    "# Useful starting lines\n",
    "%matplotlib inline\n",
    "import numpy as np\n",
    "import matplotlib.pyplot as plt\n",
    "%load_ext autoreload\n",
    "%autoreload 2"
   ]
  },
  {
   "cell_type": "markdown",
   "metadata": {},
   "source": [
    "## Load the training data into feature matrix, class labels, and event ids:"
   ]
  },
  {
   "cell_type": "code",
   "execution_count": 22,
   "metadata": {},
   "outputs": [],
   "source": [
    "from proj1_helpers import *\n",
    "from UtilityFunctions import *"
   ]
  },
  {
   "cell_type": "code",
   "execution_count": 23,
   "metadata": {},
   "outputs": [],
   "source": [
    "DATA_TRAIN_PATH = '../data/train.csv' # TODO: download train data and supply path here \n",
    "y, tX, ids = load_csv_data(DATA_TRAIN_PATH)\n",
    "#deal with missing data (=-999)"
   ]
  },
  {
   "cell_type": "code",
   "execution_count": 4,
   "metadata": {},
   "outputs": [
    {
     "data": {
      "text/plain": [
       "<matplotlib.image.AxesImage at 0x13af680b8>"
      ]
     },
     "execution_count": 4,
     "metadata": {},
     "output_type": "execute_result"
    },
    {
     "data": {
      "image/png": "[encoded data removed]",
      "text/plain": [
       "<Figure size 432x288 with 1 Axes>"
      ]
     },
     "metadata": {
      "needs_background": "light"
     },
     "output_type": "display_data"
    }
   ],
   "source": [
    "#corrcoef prod des vals normalisées à partir de la mat de correlation\n",
    "cov = np.cov(tX.T)\n",
    "#print(cov.shape, np.max(cov))\n",
    "corr = np.corrcoef(tX.T)\n",
    "#print(corr.shape, (corr))\n",
    "plt.imshow(corr, cmap='hot')"
   ]
  },
  {
   "cell_type": "code",
   "execution_count": 5,
   "metadata": {},
   "outputs": [
    {
     "name": "stdout",
     "output_type": "stream",
     "text": [
      "(30,)\n",
      "1580052 0\n"
     ]
    }
   ],
   "source": [
    "tX2 = tX.copy()\n",
    "res = []\n",
    "for el in tX2.T:\n",
    "    res.append(el[el > -999])\n",
    "print(np.array(res).shape)\n",
    "\n",
    "mu = [np.mean(el) for el in res]\n",
    "sigma = [np.std(el) for el in res]\n",
    "\n",
    "for col, mu1, sigma1 in zip(tX2.T,mu,sigma):\n",
    "    col[col == -999] = np.random.normal(mu1, sigma1, np.sum([col == -999][0]))\n",
    "    \n",
    "print(np.sum(tX==-999), np.sum(tX2==-999))"
   ]
  },
  {
   "cell_type": "code",
   "execution_count": 114,
   "metadata": {},
   "outputs": [
    {
     "name": "stdout",
     "output_type": "stream",
     "text": [
      "(250000, 30)\n",
      "(250000, 30)\n",
      "(250000,) (150087, 23)\n",
      "(250000,) (150087, 23)\n",
      "[False False False False  True  True  True False False False False False\n",
      "  True False False False False False False False False False False False\n",
      " False False  True  True  True False]\n"
     ]
    },
    {
     "data": {
      "text/plain": [
       "(array([1720., 1658., 1705., 1662., 1847., 1904., 1892., 1803., 1686.,\n",
       "        1659., 1594., 1459., 1467., 1409., 1324., 1315., 1313., 1268.,\n",
       "        1133., 1159., 1089., 1041., 1118., 1144., 1165., 1158., 1079.,\n",
       "        1082., 1043., 1026., 1017., 1017., 1003.,  987.,  969.,  923.,\n",
       "         920.,  924.,  970.,  899.,  832.,  912.,  812.,  801.,  817.,\n",
       "         874.,  792.,  846.,  812.,  754.,  782.,  756.,  711.,  675.,\n",
       "         661.,  636.,  603.,  607.,  547.,  582.,  517.,  481.,  485.,\n",
       "         425.,  344.,  388.,  350.,  350.,  296.,  277.,  248.,  234.,\n",
       "         222.,  175.,  176.,  171.,  124.,  138.,  132.,   90.,   91.,\n",
       "          82.,   56.,   61.,   46.,   52.,   31.,   25.,   29.,   22.,\n",
       "          14.,   10.,   11.,   11.,    4.,    2.,    3.,    5.,    0.,\n",
       "           2.]),\n",
       " array([0.     , 0.08503, 0.17006, 0.25509, 0.34012, 0.42515, 0.51018,\n",
       "        0.59521, 0.68024, 0.76527, 0.8503 , 0.93533, 1.02036, 1.10539,\n",
       "        1.19042, 1.27545, 1.36048, 1.44551, 1.53054, 1.61557, 1.7006 ,\n",
       "        1.78563, 1.87066, 1.95569, 2.04072, 2.12575, 2.21078, 2.29581,\n",
       "        2.38084, 2.46587, 2.5509 , 2.63593, 2.72096, 2.80599, 2.89102,\n",
       "        2.97605, 3.06108, 3.14611, 3.23114, 3.31617, 3.4012 , 3.48623,\n",
       "        3.57126, 3.65629, 3.74132, 3.82635, 3.91138, 3.99641, 4.08144,\n",
       "        4.16647, 4.2515 , 4.33653, 4.42156, 4.50659, 4.59162, 4.67665,\n",
       "        4.76168, 4.84671, 4.93174, 5.01677, 5.1018 , 5.18683, 5.27186,\n",
       "        5.35689, 5.44192, 5.52695, 5.61198, 5.69701, 5.78204, 5.86707,\n",
       "        5.9521 , 6.03713, 6.12216, 6.20719, 6.29222, 6.37725, 6.46228,\n",
       "        6.54731, 6.63234, 6.71737, 6.8024 , 6.88743, 6.97246, 7.05749,\n",
       "        7.14252, 7.22755, 7.31258, 7.39761, 7.48264, 7.56767, 7.6527 ,\n",
       "        7.73773, 7.82276, 7.90779, 7.99282, 8.07785, 8.16288, 8.24791,\n",
       "        8.33294, 8.41797, 8.503  ]),\n",
       " <a list of 100 Patch objects>)"
      ]
     },
     "execution_count": 114,
     "metadata": {},
     "output_type": "execute_result"
    },
    {
     "data": {
      "image/png": "[encoded data removed]",
      "text/plain": [
       "<Figure size 432x288 with 1 Axes>"
      ]
     },
     "metadata": {
      "needs_background": "light"
     },
     "output_type": "display_data"
    }
   ],
   "source": [
    "missing_val = np.zeros(tX.shape)\n",
    "print(missing_val.shape)\n",
    "missing_val[tX==-999] = 1\n",
    "total_cols = np.sum(missing_val, axis=0)/y.shape\n",
    "total_rows = np.sum(missing_val, axis=1)/np.shape(tX)[1]\n",
    "print(missing_val.shape)\n",
    "tX_reduced = tX[: ,total_cols < 0.5] #select only cols where less than 50% val missing and < 30% for rows\n",
    "tX_reduced = tX_reduced[total_rows<0.3, :] #and < 30% for rows\n",
    "y_reduced = y[total_rows<0.3]\n",
    "print(np.shape(total_rows), tX_reduced.shape)\n",
    "print(np.shape(total_rows>0.3), tX_reduced.shape)\n",
    "print(total_cols >0.5)\n",
    "\n",
    "tXcol = [el for el in tX[:,4] if el > -999]\n",
    "#plt.hist(tX[:,4])\n",
    "plt.hist(tXcol, bins=100)"
   ]
  },
  {
   "cell_type": "code",
   "execution_count": 24,
   "metadata": {},
   "outputs": [],
   "source": [
    "#standardize\n",
    "x, mean_x, std_x = standardize(tX)\n",
    "\n",
    "#add offset\n",
    "tX = np.c_[np.ones(len(y)), x]"
   ]
  },
  {
   "cell_type": "code",
   "execution_count": 19,
   "metadata": {},
   "outputs": [
    {
     "name": "stdout",
     "output_type": "stream",
     "text": [
      "Gradient Descent(0/999): loss=0.3462390283558019, w0=340.48024424946476, w1=0.011877443209902866\n",
      "Gradient Descent(30/999): loss=0.34623902835580206, w0=340.4802442494641, w1=0.011877443209941937\n",
      "Gradient Descent(60/999): loss=0.34623902835580195, w0=340.4802442494632, w1=0.01187744321009351\n",
      "Gradient Descent(90/999): loss=0.3462390283558017, w0=340.4802442494624, w1=0.011877443210261959\n",
      "Gradient Descent(120/999): loss=0.3462390283558018, w0=340.4802442494615, w1=0.011877443210431972\n",
      "Gradient Descent(150/999): loss=0.34623902835580184, w0=340.48024424946067, w1=0.01187744321059006\n",
      "Gradient Descent(180/999): loss=0.3462390283558017, w0=340.4802442494602, w1=0.011877443210701444\n",
      "Gradient Descent(210/999): loss=0.34623902835580117, w0=340.4802442494602, w1=0.011877443210665256\n",
      "Gradient Descent(240/999): loss=0.3462390283558017, w0=340.4802442494602, w1=0.011877443210637554\n",
      "Gradient Descent(270/999): loss=0.34623902835580156, w0=340.4802442494602, w1=0.011877443210622623\n",
      "Gradient Descent(300/999): loss=0.3462390283558014, w0=340.4802442494602, w1=0.011877443210615133\n",
      "Gradient Descent(330/999): loss=0.34623902835580206, w0=340.4802442494602, w1=0.011877443210610444\n",
      "Gradient Descent(360/999): loss=0.3462390283558016, w0=340.4802442494602, w1=0.011877443210607222\n",
      "Gradient Descent(390/999): loss=0.3462390283558015, w0=340.4802442494602, w1=0.011877443210604239\n",
      "Gradient Descent(420/999): loss=0.34623902835580167, w0=340.4802442494602, w1=0.011877443210601843\n",
      "Gradient Descent(450/999): loss=0.34623902835580167, w0=340.4802442494602, w1=0.011877443210599591\n",
      "Gradient Descent(480/999): loss=0.34623902835580217, w0=340.4802442494602, w1=0.011877443210597314\n",
      "Gradient Descent(510/999): loss=0.34623902835580184, w0=340.4802442494602, w1=0.01187744321059547\n",
      "Gradient Descent(540/999): loss=0.3462390283558023, w0=340.4802442494602, w1=0.011877443210593485\n",
      "Gradient Descent(570/999): loss=0.3462390283558022, w0=340.4802442494602, w1=0.011877443210591964\n",
      "Gradient Descent(600/999): loss=0.34623902835580234, w0=340.4802442494602, w1=0.011877443210590111\n",
      "Gradient Descent(630/999): loss=0.3462390283558023, w0=340.4802442494602, w1=0.01187744321058907\n",
      "Gradient Descent(660/999): loss=0.34623902835580245, w0=340.4802442494602, w1=0.011877443210587896\n",
      "Gradient Descent(690/999): loss=0.34623902835580206, w0=340.4802442494602, w1=0.011877443210586647\n",
      "Gradient Descent(720/999): loss=0.34623902835580217, w0=340.4802442494602, w1=0.011877443210585816\n",
      "Gradient Descent(750/999): loss=0.3462390283558023, w0=340.4802442494602, w1=0.011877443210584994\n",
      "Gradient Descent(780/999): loss=0.346239028355802, w0=340.4802442494602, w1=0.011877443210583911\n",
      "Gradient Descent(810/999): loss=0.34623902835580195, w0=340.4802442494602, w1=0.011877443210583519\n",
      "Gradient Descent(840/999): loss=0.34623902835580206, w0=340.4802442494602, w1=0.011877443210582487\n",
      "Gradient Descent(870/999): loss=0.3462390283558024, w0=340.4802442494602, w1=0.011877443210582263\n",
      "Gradient Descent(900/999): loss=0.3462390283558021, w0=340.4802442494602, w1=0.011877443210582017\n",
      "Gradient Descent(930/999): loss=0.3462390283558023, w0=340.4802442494602, w1=0.011877443210581316\n",
      "Gradient Descent(960/999): loss=0.34623902835580267, w0=340.4802442494602, w1=0.01187744321058116\n",
      "Gradient Descent(990/999): loss=0.34623902835580267, w0=340.4802442494602, w1=0.011877443210581122\n"
     ]
    }
   ],
   "source": [
    "initial_w = np.zeros(np.shape(tX2)[1])\n",
    "gamma = 0.0815\n",
    "max_iters = 1000\n",
    "final_loss, final_w = leastsquaresGD(y, tX2, w1, max_iters, gamma)"
   ]
  },
  {
   "cell_type": "code",
   "execution_count": 9,
   "metadata": {},
   "outputs": [
    {
     "name": "stdout",
     "output_type": "stream",
     "text": [
      "Gradient Descent(0/999): loss=0.4849793353419993, w0=-0.005, w1=-0.008159617848262054\n",
      "Gradient Descent(10/999): loss=0.5177063411479598, w0=0.001715090220154353, w1=0.003709212274579653\n",
      "Gradient Descent(20/999): loss=0.5741470693829509, w0=-0.014609399089541321, w1=-0.003840614239234227\n",
      "Gradient Descent(30/999): loss=0.5102547271800347, w0=-0.017647440324666457, w1=0.010696480082295392\n",
      "Gradient Descent(40/999): loss=0.5038878306120523, w0=-0.030988628907386642, w1=-0.006501066279462528\n",
      "Gradient Descent(50/999): loss=0.4910769425281217, w0=-0.034030834433708024, w1=-0.020185757361617804\n",
      "Gradient Descent(60/999): loss=0.5790441841078496, w0=-0.043702617097311186, w1=-0.011046139911278119\n",
      "Gradient Descent(70/999): loss=0.5369088200885644, w0=-0.035880475840421505, w1=-0.002081926825348251\n",
      "Gradient Descent(80/999): loss=0.5201115059624273, w0=-0.04242912432459718, w1=-0.006944939221021005\n",
      "Gradient Descent(90/999): loss=0.525622895007896, w0=-0.04005384121019525, w1=-0.006546880808366334\n",
      "Gradient Descent(100/999): loss=0.48355530587888634, w0=-0.040934963447078115, w1=-0.0056144756456363645\n",
      "Gradient Descent(110/999): loss=0.46017124112999336, w0=-0.04557373761519773, w1=-0.021133607097602796\n",
      "Gradient Descent(120/999): loss=0.4874445900977431, w0=-0.055726470122405905, w1=-0.035126273382288666\n",
      "Gradient Descent(130/999): loss=0.5012944405583211, w0=-0.050345502263288204, w1=-0.029626834404280062\n",
      "Gradient Descent(140/999): loss=0.47625442952092434, w0=-0.04591467643844258, w1=-0.02670309612541967\n",
      "Gradient Descent(150/999): loss=0.4494798688709942, w0=-0.0711163471937455, w1=-0.03317879058043135\n",
      "Gradient Descent(160/999): loss=0.4675668164189348, w0=-0.08466098266702772, w1=-0.0516460564722246\n",
      "Gradient Descent(170/999): loss=0.45322396408935145, w0=-0.07980785680161664, w1=-0.04170493621207923\n",
      "Gradient Descent(180/999): loss=0.43729851777093703, w0=-0.08832242173521725, w1=-0.04463613180833398\n",
      "Gradient Descent(190/999): loss=0.4696042860186026, w0=-0.08562506828034604, w1=-0.040338439790532164\n",
      "Gradient Descent(200/999): loss=0.44064092957046713, w0=-0.07923292027355035, w1=-0.03216271263141433\n",
      "Gradient Descent(210/999): loss=0.4368315050729333, w0=-0.08524879677162449, w1=-0.0299170130335246\n",
      "Gradient Descent(220/999): loss=0.440659522172713, w0=-0.07713349122243714, w1=-0.03680670420258002\n",
      "Gradient Descent(230/999): loss=0.46551231388923575, w0=-0.09154787133172076, w1=-0.04638628257354346\n",
      "Gradient Descent(240/999): loss=0.43873807003315396, w0=-0.09123671498623995, w1=-0.04690593565298834\n",
      "Gradient Descent(250/999): loss=0.5886075083666958, w0=-0.0686953775821733, w1=-0.029087091956189973\n",
      "Gradient Descent(260/999): loss=0.457288176225995, w0=-0.08080854070789271, w1=-0.04275399271329316\n",
      "Gradient Descent(270/999): loss=0.42760251477529304, w0=-0.09551995658308891, w1=-0.04166268411204843\n",
      "Gradient Descent(280/999): loss=0.42766239771466596, w0=-0.09886620249228004, w1=-0.05161452967872749\n",
      "Gradient Descent(290/999): loss=0.5201427922555676, w0=-0.07568217463221333, w1=-0.033397066020992544\n",
      "Gradient Descent(300/999): loss=0.44238285696419993, w0=-0.07784117521117781, w1=-0.02884165303127871\n",
      "Gradient Descent(310/999): loss=0.4334699741197649, w0=-0.09153339714042065, w1=-0.027176783258526894\n",
      "Gradient Descent(320/999): loss=0.4289578548246855, w0=-0.10016516834662396, w1=-0.039876234849132185\n",
      "Gradient Descent(330/999): loss=0.472700608078615, w0=-0.11883728109154927, w1=-0.05357393511409611\n",
      "Gradient Descent(340/999): loss=0.42601969477172547, w0=-0.10918945547480716, w1=-0.04538159136572852\n",
      "Gradient Descent(350/999): loss=0.43417663192672074, w0=-0.09896238419912443, w1=-0.03218509388408587\n",
      "Gradient Descent(360/999): loss=0.5627011933402911, w0=-0.10353275159120752, w1=-0.03884398600913056\n",
      "Gradient Descent(370/999): loss=0.52329804258359, w0=-0.11254317277096001, w1=-0.04570565429505056\n",
      "Gradient Descent(380/999): loss=0.4270800595115233, w0=-0.10390737917549883, w1=-0.03597931599281185\n",
      "Gradient Descent(390/999): loss=0.45579441545632154, w0=-0.08912510872523996, w1=-0.03727456260596531\n",
      "Gradient Descent(400/999): loss=0.4523306246739028, w0=-0.08378079428328154, w1=-0.030203770836132765\n",
      "Gradient Descent(410/999): loss=0.5120759144799203, w0=-0.08559690657337993, w1=-0.03278130550931281\n",
      "Gradient Descent(420/999): loss=0.4716034206987318, w0=-0.09873590161002295, w1=-0.03442877079041972\n",
      "Gradient Descent(430/999): loss=0.46951677636637373, w0=-0.08881581709946373, w1=-0.03311121927828794\n",
      "Gradient Descent(440/999): loss=0.46378031200235453, w0=-0.09156974542697362, w1=-0.026668029138746194\n",
      "Gradient Descent(450/999): loss=0.638222647992932, w0=-0.07527529086633719, w1=-0.016483341872053994\n",
      "Gradient Descent(460/999): loss=0.5146977461308996, w0=-0.09423437986462763, w1=-0.025909552968225065\n",
      "Gradient Descent(470/999): loss=0.47320944359396244, w0=-0.11395391434458711, w1=-0.035386159089598156\n",
      "Gradient Descent(480/999): loss=0.44933502011355325, w0=-0.09921508404664135, w1=-0.020426596039004343\n",
      "Gradient Descent(490/999): loss=0.4514498097975964, w0=-0.1076573006377989, w1=-0.017131372207170568\n",
      "Gradient Descent(500/999): loss=0.4352961000379478, w0=-0.10570367595931535, w1=-0.018686845311623526\n",
      "Gradient Descent(510/999): loss=0.43496016238837615, w0=-0.10336288604839715, w1=-0.010530591119895422\n",
      "Gradient Descent(520/999): loss=0.4662146714691425, w0=-0.0864469703066417, w1=-0.0049545305773308285\n",
      "Gradient Descent(530/999): loss=0.4262672885562492, w0=-0.10201806409513632, w1=-0.01663236252666853\n",
      "Gradient Descent(540/999): loss=0.42055889497230403, w0=-0.09466458544400402, w1=-0.012724371973809021\n",
      "Gradient Descent(550/999): loss=0.46544182245694066, w0=-0.10700281129340324, w1=-0.0234604367788654\n",
      "Gradient Descent(560/999): loss=0.42275523102254153, w0=-0.10310944740732152, w1=-0.02119063341075208\n",
      "Gradient Descent(570/999): loss=0.44700007252434293, w0=-0.10125604595312271, w1=-0.023549944576031885\n",
      "Gradient Descent(580/999): loss=0.42113678150764094, w0=-0.11894102701301876, w1=-0.031199740968760794\n",
      "Gradient Descent(590/999): loss=0.4694428259551854, w0=-0.11410589887126255, w1=-0.032185049361194124\n",
      "Gradient Descent(600/999): loss=0.48596039001231733, w0=-0.1442130879258743, w1=-0.044357797292841\n",
      "Gradient Descent(610/999): loss=0.4825473339506554, w0=-0.14618235874149071, w1=-0.0458113001324862\n",
      "Gradient Descent(620/999): loss=0.4533330852242419, w0=-0.15539135542770052, w1=-0.06255791322697346\n",
      "Gradient Descent(630/999): loss=0.47590601428351437, w0=-0.15371301800211157, w1=-0.06197230895720024\n",
      "Gradient Descent(640/999): loss=0.44354490129599605, w0=-0.13310440044675487, w1=-0.04583079572589496\n",
      "Gradient Descent(650/999): loss=0.4652716264231629, w0=-0.12564969877551968, w1=-0.034458842775666645\n",
      "Gradient Descent(660/999): loss=0.4431430713849942, w0=-0.13749774306692633, w1=-0.045246198526321155\n",
      "Gradient Descent(670/999): loss=0.4295139398116182, w0=-0.14231575803245927, w1=-0.04589322094294889\n",
      "Gradient Descent(680/999): loss=0.4380426229660571, w0=-0.12692157971735987, w1=-0.03996785816902091\n",
      "Gradient Descent(690/999): loss=0.4255112340266174, w0=-0.13695214682817708, w1=-0.04640049173916073\n",
      "Gradient Descent(700/999): loss=0.47282313550180716, w0=-0.1402563361732506, w1=-0.04079621634758432\n",
      "Gradient Descent(710/999): loss=0.4490853801197918, w0=-0.1548019919267458, w1=-0.05503846539040263\n",
      "Gradient Descent(720/999): loss=0.47587865198181195, w0=-0.16094874702568862, w1=-0.05532287453415595\n",
      "Gradient Descent(730/999): loss=0.4512405673326501, w0=-0.15573362572249183, w1=-0.05357701618027242\n",
      "Gradient Descent(740/999): loss=0.5383207773612645, w0=-0.1363419109369057, w1=-0.04239937035237505\n",
      "Gradient Descent(750/999): loss=0.47606795763200854, w0=-0.1356701248492633, w1=-0.03794862170410941\n",
      "Gradient Descent(760/999): loss=0.4577263288066254, w0=-0.1399779827736984, w1=-0.040907894479303084\n",
      "Gradient Descent(770/999): loss=0.4916060518222265, w0=-0.132771714110184, w1=-0.03581858573704568\n",
      "Gradient Descent(780/999): loss=0.4625590509230689, w0=-0.15976554668804338, w1=-0.05305130580072409\n",
      "Gradient Descent(790/999): loss=0.42836634176999694, w0=-0.15611487973512753, w1=-0.05244098676080612\n",
      "Gradient Descent(800/999): loss=0.4579947880700077, w0=-0.1498313434702496, w1=-0.05562880365293223\n"
     ]
    },
    {
     "name": "stdout",
     "output_type": "stream",
     "text": [
      "Gradient Descent(810/999): loss=0.4200944192614319, w0=-0.14770687841246047, w1=-0.04775610719575398\n",
      "Gradient Descent(820/999): loss=0.4996613381586659, w0=-0.1299899272384051, w1=-0.027601312894983354\n",
      "Gradient Descent(830/999): loss=0.43063462045720313, w0=-0.141458309703284, w1=-0.03816884484622498\n",
      "Gradient Descent(840/999): loss=0.42096033564759416, w0=-0.15906807513783622, w1=-0.0483016932402563\n",
      "Gradient Descent(850/999): loss=0.42564881090656853, w0=-0.1411192361299688, w1=-0.03504174729863363\n",
      "Gradient Descent(860/999): loss=0.4227923413065378, w0=-0.13479020154973387, w1=-0.030163073099582542\n",
      "Gradient Descent(870/999): loss=0.43856005119281544, w0=-0.1479056237329925, w1=-0.038465632610282054\n",
      "Gradient Descent(880/999): loss=0.4366335254981862, w0=-0.12977738205743736, w1=-0.022076740677674164\n",
      "Gradient Descent(890/999): loss=0.41285899624511846, w0=-0.14350058374127986, w1=-0.02969513491181806\n",
      "Gradient Descent(900/999): loss=0.4396279513719277, w0=-0.15261433282978337, w1=-0.030661820762338768\n",
      "Gradient Descent(910/999): loss=0.5363128334445948, w0=-0.13590177103403736, w1=-0.033852871518793626\n",
      "Gradient Descent(920/999): loss=0.4214555898302287, w0=-0.137624802167652, w1=-0.03208669955515489\n",
      "Gradient Descent(930/999): loss=0.4205800087803186, w0=-0.13006014895396822, w1=-0.022202110292684683\n",
      "Gradient Descent(940/999): loss=0.4996056749145959, w0=-0.11585061726147806, w1=-0.008634812362479526\n",
      "Gradient Descent(950/999): loss=0.41345257922077766, w0=-0.14170703634399412, w1=-0.025628111158791298\n",
      "Gradient Descent(960/999): loss=0.4082385145316935, w0=-0.13829375996143345, w1=-0.02304420554529864\n",
      "Gradient Descent(970/999): loss=0.4213885297637025, w0=-0.1261416659213042, w1=-0.005086420204522317\n",
      "Gradient Descent(980/999): loss=0.45921719001674133, w0=-0.12437682220837555, w1=-0.003491478624240198\n",
      "Gradient Descent(990/999): loss=0.4302646635813361, w0=-0.13331909252510302, w1=-0.004972861912980863\n",
      "0.5034287810643492 [-0.12177371  0.07545476 -1.0407416  -0.11645851  0.10701323  0.12450128\n",
      "  0.02059902 -0.08516806  0.09050793 -0.13787191  0.27134441  0.01608071\n",
      "  0.12707743  0.067847    0.63286406  0.04804059  0.04393703  0.00265482\n",
      "  0.04836487  0.05382892  0.1125776   0.05095321 -0.05260492  0.05858832\n",
      " -0.07678389  0.04842192  0.0498225  -0.0656074   0.05073727  0.044046\n",
      " -0.2648915 ]\n"
     ]
    }
   ],
   "source": [
    "#Stochastic GD\n",
    "gamma = 0.005\n",
    "final_loss, final_w_sgd = leastsquaresSGD(y, tX2, initial_w, max_iters, gamma)\n",
    "print(final_loss, final_w)"
   ]
  },
  {
   "cell_type": "code",
   "execution_count": 25,
   "metadata": {},
   "outputs": [
    {
     "name": "stdout",
     "output_type": "stream",
     "text": [
      "(250000,)\n"
     ]
    }
   ],
   "source": [
    "#normal equations -> performs worse!!!\n",
    "print(tX2.dot(initial_w).shape)\n",
    "w1 = np.linalg.solve(np.dot(tX2.T,tX2),np.dot(tX2.T,y))#loss=0.3462325758854544"
   ]
  },
  {
   "cell_type": "markdown",
   "metadata": {},
   "source": [
    "## Generate predictions and save ouput in csv format for submission:"
   ]
  },
  {
   "cell_type": "code",
   "execution_count": 27,
   "metadata": {},
   "outputs": [],
   "source": [
    "DATA_TEST_PATH = '../data/test.csv' # TODO: download train data and supply path here \n",
    "_, tX_test, ids_test = load_csv_data(DATA_TEST_PATH)"
   ]
  },
  {
   "cell_type": "code",
   "execution_count": 28,
   "metadata": {},
   "outputs": [],
   "source": [
    "OUTPUT_PATH = '../data/predicted.csv' # TODO: fill in desired name of output file for submission\n",
    "tX_test, mean_x, std_x = standardize(tX_test)\n",
    "tX_test  = np.c_[np.ones(tX_test.shape[0]), tX_test]\n",
    "y_pred = predict_labels(w1, tX_test)\n",
    "create_csv_submission(ids_test, y_pred, OUTPUT_PATH)"
   ]
  },
  {
   "cell_type": "code",
   "execution_count": null,
   "metadata": {
    "collapsed": true
   },
   "outputs": [],
   "source": [
    "#implementer 10% du train set comme test set"
   ]
  }
 ],
 "metadata": {
  "anaconda-cloud": {},
  "kernelspec": {
   "display_name": "Python 3",
   "language": "python",
   "name": "python3"
  },
  "language_info": {
   "codemirror_mode": {
    "name": "ipython",
    "version": 3
   },
   "file_extension": ".py",
   "mimetype": "text/x-python",
   "name": "python",
   "nbconvert_exporter": "python",
   "pygments_lexer": "ipython3",
   "version": "3.6.8"
  }
 },
 "nbformat": 4,
 "nbformat_minor": 1
}
